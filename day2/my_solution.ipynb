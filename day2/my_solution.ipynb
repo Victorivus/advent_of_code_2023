{
 "cells": [
  {
   "cell_type": "markdown",
   "metadata": {},
   "source": [
    "# --- Day 2: Cube Conundrum ---\n",
    "## Part 1\n",
    "You're launched high into the atmosphere! The apex of your trajectory just barely reaches the surface of a large island floating in the sky. You gently land in a fluffy pile of leaves. It's quite cold, but you don't see much snow. An Elf runs over to greet you.\n",
    "\n",
    "The Elf explains that you've arrived at Snow Island and apologizes for the lack of snow. He'll be happy to explain the situation, but it's a bit of a walk, so you have some time. They don't get many visitors up here; would you like to play a game in the meantime?\n",
    "\n",
    "As you walk, the Elf shows you a small bag and some cubes which are either red, green, or blue. Each time you play this game, he will hide a secret number of cubes of each color in the bag, and your goal is to figure out information about the number of cubes.\n",
    "\n",
    "To get information, once a bag has been loaded with cubes, the Elf will reach into the bag, grab a handful of random cubes, show them to you, and then put them back in the bag. He'll do this a few times per game.\n",
    "\n",
    "You play several games and record the information from each game (your puzzle input). Each game is listed with its ID number (like the 11 in Game 11: ...) followed by a semicolon-separated list of subsets of cubes that were revealed from the bag (like 3 red, 5 green, 4 blue).\n",
    "\n",
    "For example, the record of a few games might look like this:\n",
    "\n",
    "```\n",
    "Game 1: 3 blue, 4 red; 1 red, 2 green, 6 blue; 2 green\n",
    "Game 2: 1 blue, 2 green; 3 green, 4 blue, 1 red; 1 green, 1 blue\n",
    "Game 3: 8 green, 6 blue, 20 red; 5 blue, 4 red, 13 green; 5 green, 1 red\n",
    "Game 4: 1 green, 3 red, 6 blue; 3 green, 6 red; 3 green, 15 blue, 14 red\n",
    "Game 5: 6 red, 1 blue, 3 green; 2 blue, 1 red, 2 green\n",
    "```\n",
    "\n",
    "In game 1, three sets of cubes are revealed from the bag (and then put back again). The first set is 3 blue cubes and 4 red cubes; the second set is 1 red cube, 2 green cubes, and 6 blue cubes; the third set is only 2 green cubes.\n",
    "\n",
    "The Elf would first like to know which games would have been possible if the bag contained only 12 red cubes, 13 green cubes, and 14 blue cubes?\n",
    "\n",
    "In the example above, games 1, 2, and 5 would have been possible if the bag had been loaded with that configuration. However, game 3 would have been impossible because at one point the Elf showed you 20 red cubes at once; similarly, game 4 would also have been impossible because the Elf showed you 15 blue cubes at once. If you add up the IDs of the games that would have been possible, you get 8."
   ]
  },
  {
   "cell_type": "code",
   "execution_count": 93,
   "metadata": {},
   "outputs": [
    {
     "name": "stdout",
     "output_type": "stream",
     "text": [
      "[1, 4, 7, 13, 14, 15, 16, 19, 20, 21, 22, 25, 26, 28, 30, 31, 34, 35, 36, 37, 39, 41, 46, 47, 48, 49, 50, 51, 53, 54, 56, 58, 59, 60, 63, 64, 66, 71, 75, 76, 77, 84, 87, 90, 91, 95, 96, 98]\n",
      "2278\n"
     ]
    }
   ],
   "source": [
    "import re\n",
    "import numpy as np\n",
    "\n",
    "def count_colors(input_str):\n",
    "    colors = {'blue': 0, 'red': 0, 'green': 0}\n",
    "    counts = []\n",
    "    input_str = re.findall('Game [\\d]*: (.*)', input_str)[0]\n",
    "    for game in input_str.split(';'):\n",
    "        game_colors = colors.copy()\n",
    "        for item in game.split(','):\n",
    "            num, color = item.strip().split()\n",
    "            game_colors[color] += int(num)\n",
    "        counts.append(game_colors)\n",
    "    return counts\n",
    "\n",
    "def sum_up(count):\n",
    "    sum_dict = {}\n",
    "    for d in count:\n",
    "        for key, value in d.items():\n",
    "            sum_dict[key] = sum_dict.get(key, 0) + value\n",
    "    return sum_dict\n",
    "\n",
    "input = \"Game 1: 3 blue, 4 red; 1 red, 2 green, 6 blue; 2 green\\n\\\n",
    "Game 2: 1 blue, 2 green; 3 green, 4 blue, 1 red; 1 green, 1 blue\\n\\\n",
    "Game 3: 8 green, 6 blue, 20 red; 5 blue, 4 red, 13 green; 5 green, 1 red\\n\\\n",
    "Game 4: 1 green, 3 red, 6 blue; 3 green, 6 red; 3 green, 15 blue, 14 red\\n\\\n",
    "Game 5: 6 red, 1 blue, 3 green; 2 blue, 1 red, 2 green\\n\\\n",
    "\".splitlines()\n",
    "\n",
    "input = open(\"input1.txt\").read().splitlines()\n",
    "\n",
    "counts = [count_colors(i) for i in input]\n",
    "ids = [i+1 for i in range(len(counts))]\n",
    "#ids = []\n",
    "goal = {'blue': 14, 'red': 12, 'green': 13}\n",
    "for i,c in enumerate(counts):\n",
    "    #game = sum_up(c)\n",
    "    for game in c:\n",
    "        for k,v in game.items():\n",
    "            # if i==12:\n",
    "            #     print(f\"{v} vs {goal[k]}\")\n",
    "            if v <= goal[k]:\n",
    "                continue\n",
    "            else:\n",
    "                if i+1 in ids:\n",
    "                    # if i==12:\n",
    "                    #     print(f'\\ngame {i+1} is',game)\n",
    "                    #     print('goal is',goal)\n",
    "                    ids.remove(i+1)\n",
    "                    #ids.append(i+1)\n",
    "                    break\n",
    "\n",
    "\n",
    "print(\"Total sum of game IDs:\", sum(ids))\n",
    "\n"
   ]
  },
  {
   "cell_type": "code",
   "execution_count": 84,
   "metadata": {},
   "outputs": [
    {
     "name": "stdout",
     "output_type": "stream",
     "text": [
      "100\n"
     ]
    }
   ],
   "source": [
    "print(len(counts))"
   ]
  },
  {
   "cell_type": "code",
   "execution_count": 75,
   "metadata": {},
   "outputs": [
    {
     "name": "stdout",
     "output_type": "stream",
     "text": [
      "Answer part one: 2278\n",
      "Answer part two: 67953\n"
     ]
    }
   ],
   "source": [
    "from collections import defaultdict\n",
    "from math import prod\n",
    "\n",
    "lines = open(\"input1.txt\").read().splitlines()\n",
    "\n",
    "games = {i + 1: line.split(\": \")[1] for i, line in enumerate(lines)}\n",
    "\n",
    "\n",
    "def get_max_rgb_of_game(game):\n",
    "    max_rgb = defaultdict(lambda: 0)\n",
    "    for turn in game.split(\"; \"):\n",
    "        for cube in turn.split(\", \"):\n",
    "            nb_cube, color = cube.split()\n",
    "            if \"red\" in color:\n",
    "                max_rgb[\"r\"] = max(max_rgb[\"r\"], int(nb_cube))\n",
    "            elif \"green\" in color:\n",
    "                max_rgb[\"g\"] = max(max_rgb[\"g\"], int(nb_cube))\n",
    "            if \"blue\" in color:\n",
    "                max_rgb[\"b\"] = max(max_rgb[\"b\"], int(nb_cube))\n",
    "    return max_rgb\n",
    "\n",
    "\n",
    "part_1 = sum(\n",
    "    id\n",
    "    for id, g in games.items()\n",
    "    if (max_rgb := get_max_rgb_of_game(g))[\"r\"] <= 12 and max_rgb[\"g\"] <= 13 and max_rgb[\"b\"] <= 14\n",
    ")\n",
    "part_2 = sum(prod(get_max_rgb_of_game(g).values()) for g in games.values())\n",
    "print(f\"Answer part one: {part_1}\")\n",
    "print(f\"Answer part two: {part_2}\")"
   ]
  },
  {
   "cell_type": "code",
   "execution_count": 90,
   "metadata": {},
   "outputs": [
    {
     "name": "stdout",
     "output_type": "stream",
     "text": [
      "[1, 4, 7, 13, 14, 15, 16, 19, 20, 21, 22, 25, 26, 28, 30, 31, 34, 35, 36, 37, 39, 41, 46, 47, 48, 49, 50, 51, 53, 54, 56, 58, 59, 60, 63, 64, 66, 71, 75, 76, 77, 84, 87, 90, 91, 95, 96, 98]\n",
      "[1, 4, 7, 15, 19, 22, 26, 28, 34, 35, 36, 37, 41, 46, 47, 48, 49, 50, 54, 56, 58, 59, 63, 64, 66, 71, 75, 76, 77, 84, 87, 90, 91, 98]\n"
     ]
    }
   ],
   "source": [
    "part_1 = [\n",
    "    id\n",
    "    for id, g in games.items()\n",
    "    if (max_rgb := get_max_rgb_of_game(g))[\"r\"] <= 12 and max_rgb[\"g\"] <= 13 and max_rgb[\"b\"] <= 14\n",
    "]\n",
    "print(part_1)\n",
    "print(ids)"
   ]
  },
  {
   "cell_type": "code",
   "execution_count": 39,
   "metadata": {},
   "outputs": [
    {
     "data": {
      "text/plain": [
       "['3 blue, 4 red; 1 red, 2 green, 6 blue; 2 green']"
      ]
     },
     "execution_count": 39,
     "metadata": {},
     "output_type": "execute_result"
    }
   ],
   "source": [
    "import re\n",
    "re.findall('Game [\\d]*: (.*)', input[0])"
   ]
  },
  {
   "cell_type": "markdown",
   "metadata": {},
   "source": [
    "## Part 2"
   ]
  },
  {
   "cell_type": "code",
   "execution_count": 65,
   "metadata": {},
   "outputs": [
    {
     "name": "stdout",
     "output_type": "stream",
     "text": [
      "Total sum of calibration values: 54277\n"
     ]
    }
   ],
   "source": [
    "exmaple_doc = [\n",
    "    \"two1nine\",\n",
    "    \"eightwothree\",\n",
    "    \"abcone2threexyz\",\n",
    "    \"xtwone3four\",\n",
    "    \"4nineeightseven2\",\n",
    "    \"zoneight234\",\n",
    "    \"7pqrstsixteen\"\n",
    "]\n",
    "\n",
    "with open(\"input2.txt\", \"r\") as input:\n",
    "\tdoc = input.readlines()\n",
    " \n",
    "def translate(number):\n",
    "    number_dict = {\n",
    "        \"one\": \"1\",\n",
    "        \"two\": \"2\",\n",
    "        \"three\": \"3\",\n",
    "        \"four\": \"4\",\n",
    "        \"five\": \"5\",\n",
    "        \"six\": \"6\",\n",
    "        \"seven\": \"7\",\n",
    "        \"eight\": \"8\",\n",
    "        \"nine\": \"9\",\n",
    "        \"zero\": \"0\",\n",
    "    }\n",
    "    return number_dict[number]\n",
    "\n",
    "sum = 0\n",
    "\n",
    "for s in doc:\n",
    "    first = re.findall('(\\d|one|two|three|four|five|six|seven|seven|eight|nine|zero).*$', s)[0]\n",
    "    if len(first)>1:\n",
    "        first = translate(first)\n",
    "    last = re.findall('.*(\\d|one|two|three|four|five|six|seven|seven|eight|nine|zero)', s)[0] # method 2\n",
    "    if len(last)>1:\n",
    "        last = translate(last)\n",
    "    sum += int(first+last)\n",
    "\n",
    "print(\"Total sum of calibration values:\", sum)\n"
   ]
  }
 ],
 "metadata": {
  "kernelspec": {
   "display_name": "base",
   "language": "python",
   "name": "python3"
  },
  "language_info": {
   "codemirror_mode": {
    "name": "ipython",
    "version": 3
   },
   "file_extension": ".py",
   "mimetype": "text/x-python",
   "name": "python",
   "nbconvert_exporter": "python",
   "pygments_lexer": "ipython3",
   "version": "3.11.5"
  },
  "orig_nbformat": 4
 },
 "nbformat": 4,
 "nbformat_minor": 2
}
