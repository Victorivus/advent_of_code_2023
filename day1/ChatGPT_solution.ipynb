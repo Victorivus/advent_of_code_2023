{
 "cells": [
  {
   "cell_type": "code",
   "execution_count": 1,
   "metadata": {},
   "outputs": [
    {
     "name": "stdout",
     "output_type": "stream",
     "text": [
      "Total sum of calibration values: 142\n"
     ]
    }
   ],
   "source": [
    "def extract_calibration_values(calibration_document):\n",
    "    total = 0\n",
    "    \n",
    "    for line in calibration_document:\n",
    "        # Find the first and last digits in the line\n",
    "        first_digit = None\n",
    "        last_digit = None\n",
    "        \n",
    "        for char in line:\n",
    "            if char.isdigit():\n",
    "                if first_digit is None:\n",
    "                    first_digit = int(char)\n",
    "                last_digit = int(char)\n",
    "        \n",
    "        # Combine the first and last digits to form a two-digit number\n",
    "        if first_digit is not None and last_digit is not None:\n",
    "            calibration_value = int(str(first_digit) + str(last_digit))\n",
    "            total += calibration_value\n",
    "    \n",
    "    return total\n",
    "\n",
    "# Example calibration document\n",
    "calibration_document = [\n",
    "    \"1abc2\",\n",
    "    \"pqr3stu8vwx\",\n",
    "    \"a1b2c3d4e5f\",\n",
    "    \"treb7uchet\"\n",
    "]\n",
    "\n",
    "# Calculate the sum of calibration values\n",
    "result = extract_calibration_values(calibration_document)\n",
    "print(\"Total sum of calibration values:\", result)"
   ]
  },
  {
   "cell_type": "markdown",
   "metadata": {},
   "source": [
    "## Part 2"
   ]
  },
  {
   "cell_type": "code",
   "execution_count": 2,
   "metadata": {},
   "outputs": [
    {
     "name": "stdout",
     "output_type": "stream",
     "text": [
      "Total sum of calibration values: 0\n"
     ]
    }
   ],
   "source": [
    "def extract_calibration_values(calibration_document):\n",
    "    total = 0\n",
    "    \n",
    "    for line in calibration_document:\n",
    "        # Dictionary mapping spelled-out digits to their numeric values\n",
    "        spelled_out_digits = {\n",
    "            'one': 1, 'two': 2, 'three': 3, 'four': 4, 'five': 5,\n",
    "            'six': 6, 'seven': 7, 'eight': 8, 'nine': 9\n",
    "        }\n",
    "        \n",
    "        # Extracting words from the line\n",
    "        words = line.split()\n",
    "        \n",
    "        # Find the first and last digits/spelled-out digits in the line\n",
    "        first_digit = None\n",
    "        last_digit = None\n",
    "        \n",
    "        for word in words:\n",
    "            if word.isdigit():\n",
    "                if first_digit is None:\n",
    "                    first_digit = int(word)\n",
    "                last_digit = int(word)\n",
    "            elif word in spelled_out_digits:\n",
    "                digit_value = spelled_out_digits[word]\n",
    "                if first_digit is None:\n",
    "                    first_digit = digit_value\n",
    "                last_digit = digit_value\n",
    "        \n",
    "        # Combine the first and last digits to form a two-digit number\n",
    "        if first_digit is not None and last_digit is not None:\n",
    "            calibration_value = int(str(first_digit) + str(last_digit))\n",
    "            total += calibration_value\n",
    "    \n",
    "    return total\n",
    "\n",
    "# Example calibration document\n",
    "calibration_document = [\n",
    "    \"two1nine\",\n",
    "    \"eightwothree\",\n",
    "    \"abcone2threexyz\",\n",
    "    \"xtwone3four\",\n",
    "    \"4nineeightseven2\",\n",
    "    \"zoneight234\",\n",
    "    \"7pqrstsixteen\"\n",
    "]\n",
    "\n",
    "# Calculate the sum of calibration values\n",
    "result = extract_calibration_values(calibration_document)\n",
    "print(\"Total sum of calibration values:\", result)\n"
   ]
  },
  {
   "cell_type": "markdown",
   "metadata": {},
   "source": [
    "Second part solution does not work."
   ]
  }
 ],
 "metadata": {
  "kernelspec": {
   "display_name": "base",
   "language": "python",
   "name": "python3"
  },
  "language_info": {
   "codemirror_mode": {
    "name": "ipython",
    "version": 3
   },
   "file_extension": ".py",
   "mimetype": "text/x-python",
   "name": "python",
   "nbconvert_exporter": "python",
   "pygments_lexer": "ipython3",
   "version": "3.10.10"
  },
  "orig_nbformat": 4
 },
 "nbformat": 4,
 "nbformat_minor": 2
}
