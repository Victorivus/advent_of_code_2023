{
 "cells": [
  {
   "cell_type": "markdown",
   "metadata": {},
   "source": [
    "# --- Day 1: Trebuchet?! ---\n",
    "## Part 1\n",
    "You try to ask why they can't just use a weather machine (\"not powerful enough\") and where they're even sending you (\"the sky\") and why your map looks mostly blank (\"you sure ask a lot of questions\") and hang on did you just say the sky (\"of course, where do you think snow comes from\") when you realize that the Elves are already loading you into a trebuchet (\"please hold still, we need to strap you in\").\n",
    "\n",
    "As they're making the final adjustments, they discover that their calibration document (your puzzle input) has been amended by a very young Elf who was apparently just excited to show off her art skills. Consequently, the Elves are having trouble reading the values on the document.\n",
    "\n",
    "The newly-improved calibration document consists of lines of text; each line originally contained a specific calibration value that the Elves now need to recover. On each line, the calibration value can be found by combining the first digit and the last digit (in that order) to form a single two-digit number.\n",
    "\n",
    "For example:\n",
    "\n",
    "```\n",
    "1abc2\n",
    "pqr3stu8vwx\n",
    "a1b2c3d4e5f\n",
    "treb7uchet\n",
    "```\n",
    "\n",
    "In this example, the calibration values of these four lines are 12, 38, 15, and 77. Adding these together produces 142."
   ]
  },
  {
   "cell_type": "code",
   "execution_count": 53,
   "metadata": {},
   "outputs": [
    {
     "name": "stdout",
     "output_type": "stream",
     "text": [
      "Total sum of calibration values: 54390\n"
     ]
    }
   ],
   "source": [
    "import re\n",
    "\n",
    "exmaple_doc = [\n",
    "    \"1abc2\",\n",
    "    \"pqr3stu8vwx\",\n",
    "    \"a1b2c3d4e5f\",\n",
    "    \"treb7uchet\"\n",
    "]\n",
    "\n",
    "with open(\"input1.txt\", \"r\") as input:\n",
    "\tdoc = input.readlines()\n",
    "\n",
    "sum = 0\n",
    "\n",
    "for s in doc:\n",
    "    first = re.findall('(\\d).*$', s)[0]\n",
    "    # last = repr(re.findall('.*(?:\\D|^)(\\d+)', s)[-1])[-2] # method 1\n",
    "    last = re.findall('.*(\\d)', s)[0] # method 2\n",
    "    # print(first+last)\n",
    "    sum += int(first+last)\n",
    "\n",
    "print(\"Total sum of calibration values:\", sum)\n"
   ]
  },
  {
   "cell_type": "markdown",
   "metadata": {},
   "source": [
    "## Part 2"
   ]
  },
  {
   "cell_type": "code",
   "execution_count": 65,
   "metadata": {},
   "outputs": [
    {
     "name": "stdout",
     "output_type": "stream",
     "text": [
      "Total sum of calibration values: 54277\n"
     ]
    }
   ],
   "source": [
    "exmaple_doc = [\n",
    "    \"two1nine\",\n",
    "    \"eightwothree\",\n",
    "    \"abcone2threexyz\",\n",
    "    \"xtwone3four\",\n",
    "    \"4nineeightseven2\",\n",
    "    \"zoneight234\",\n",
    "    \"7pqrstsixteen\"\n",
    "]\n",
    "\n",
    "with open(\"input2.txt\", \"r\") as input:\n",
    "\tdoc = input.readlines()\n",
    " \n",
    "def translate(number):\n",
    "    number_dict = {\n",
    "        \"one\": \"1\",\n",
    "        \"two\": \"2\",\n",
    "        \"three\": \"3\",\n",
    "        \"four\": \"4\",\n",
    "        \"five\": \"5\",\n",
    "        \"six\": \"6\",\n",
    "        \"seven\": \"7\",\n",
    "        \"eight\": \"8\",\n",
    "        \"nine\": \"9\",\n",
    "        \"zero\": \"0\",\n",
    "    }\n",
    "    return number_dict[number]\n",
    "\n",
    "sum = 0\n",
    "\n",
    "for s in doc:\n",
    "    first = re.findall('(\\d|one|two|three|four|five|six|seven|seven|eight|nine|zero).*$', s)[0]\n",
    "    if len(first)>1:\n",
    "        first = translate(first)\n",
    "    last = re.findall('.*(\\d|one|two|three|four|five|six|seven|seven|eight|nine|zero)', s)[0] # method 2\n",
    "    if len(last)>1:\n",
    "        last = translate(last)\n",
    "    sum += int(first+last)\n",
    "\n",
    "print(\"Total sum of calibration values:\", sum)\n"
   ]
  }
 ],
 "metadata": {
  "kernelspec": {
   "display_name": "base",
   "language": "python",
   "name": "python3"
  },
  "language_info": {
   "codemirror_mode": {
    "name": "ipython",
    "version": 3
   },
   "file_extension": ".py",
   "mimetype": "text/x-python",
   "name": "python",
   "nbconvert_exporter": "python",
   "pygments_lexer": "ipython3",
   "version": "3.10.10"
  },
  "orig_nbformat": 4
 },
 "nbformat": 4,
 "nbformat_minor": 2
}
